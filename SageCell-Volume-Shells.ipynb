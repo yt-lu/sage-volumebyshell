{
 "cells": [
  {
   "cell_type": "code",
   "execution_count": 3,
   "metadata": {
    "scrolled": true
   },
   "outputs": [
    {
     "data": {
      "text/html": [
       "<h2><font face=\"Comic Sans MS\">Volume by Revolution: Cylindrical Shells</font></h2>"
      ],
      "text/plain": [
       "<h2><font face=\"Comic Sans MS\">Volume by Revolution: Cylindrical Shells</font></h2>"
      ]
     },
     "metadata": {},
     "output_type": "display_data"
    },
    {
     "data": {
      "application/vnd.jupyter.widget-view+json": {
       "model_id": "a16294251a0045b8bafeb6b61d741637",
       "version_major": 2,
       "version_minor": 0
      },
      "text/plain": [
       "SW50ZXJhY3RpdmUgZnVuY3Rpb24gPGZ1bmN0aW9uIF8gYXQgMHgxZDMxOGY1ZjA+IHdpdGggMSB3aWRnZXQKICByb3RhdGlvbjogVG9nZ2xlQnV0dG9ucyhkZXNjcmlwdGlvbj11JyRBeGlzXFzigKY=\n"
      ]
     },
     "metadata": {},
     "output_type": "display_data"
    }
   ],
   "source": [
    "#SageWidget-Calculus-VolumeByShells-09-04-2019-0040-LU\n",
    "from sage.plot.plot3d.shapes import *; var('x', 'y', 'z', 'u', 'v','w', 't', 's'); \n",
    "pretty_print(html('<h2><font face=\"Comic Sans MS\">Volume by Revolution: Cylindrical Shells</font></h2>'))\n",
    "def draw_washer(r, R, ax, h, c, o):\n",
    "        w = point3d((0,0,0),size=5,color='white') # Show the origin\n",
    "        if r < R:\n",
    "            w += parametric_plot3d([u*sin(v), ax + u*cos(v), 0], (u, r, R), (v, 0, 2 * pi), color = c, opacity = o) # BOTTOM\n",
    "            w += parametric_plot3d([u*sin(v), ax + u*cos(v), h], (u, r, R), (v, 0, 2 * pi), color = c, opacity = o) # TOP\n",
    "            w += parametric_plot3d([R * sin(v), ax + R * cos(v), h * t], (t, 0, 1), (v, 0, 2 * pi), color = c, opacity = o) # OUTSIDE\n",
    "            w += parametric_plot3d([r * sin(v), ax + r * cos(v), h * t], (t, 0, 1), (v, 0, 2 * pi), color = c, opacity = o) # INSIDE\n",
    "        return w\n",
    "@interact(layout = [['rotation']]) \n",
    "def _(rotation = selector(['|','--'], label=r'$Axis\\ of\\ Rotation$', buttons=True)):\n",
    "    cc = ['#FB3535', '#FDA819', '#67B497','#FAE7A8', '#3B3028']\n",
    "    if rotation == '|':\n",
    "        @interact(layout = [['axisR'], ['y1', 'y2', 'xint', 'space'], ['showVolume','showShells', 'n', 'xstar']])\n",
    "        def _(axisR = input_box(0, width=3, label=r'$Axis\\ of\\ rotation: x=$'),\n",
    "              y1 = input_box(x, width=20, label=r'$y_1=$'), \n",
    "              y2 = input_box(sqrt(x), width=20, label=r'$y_2=$'),\n",
    "              xint = input_box((0, 1), width=10, label=r'$x:$'),\n",
    "              xstar = selector(['Arbitrary', 'Lower endpoint', 'Upper endpoint', 'Midpoint'], label=r'$x^*$'),\n",
    "              n = input_box(5, width=3, label=r'$n$'),\n",
    "              showVolume = (r'$Volume$', True),\n",
    "              showShells = (r'$Shells$', False)):\n",
    "            (a, b) = xint\n",
    "            dx = (b - a) / n\n",
    "            y1 = y1 + 0 * x # avoid error when the integrand is a constant.\n",
    "            y2 = y2 + 0 * x # avoid error when the integrand is a constant.\n",
    "            y1 = y1.function(x)\n",
    "            y2 = y2.function(x)\n",
    "            curves = parametric_plot3d([0, x, y1(x)], (x, a, b), radius=0.01, color='red')\n",
    "            curves += parametric_plot3d([0, x, y2(x)], (x, a, b), radius=0.01, color='blue')\n",
    "            bb = curves.bounding_box()\n",
    "            (xmin, xmax, ymin, ymax) = [bb[0][1], bb[1][1], bb[0][2], bb[1][2]]\n",
    "            p = line3d([(0, axisR, ymin - (ymax - ymin) / 2), (0, axisR, ymax + (ymax - ymin) / 2)], radius=0.001, color='black') # rotation axis\n",
    "            p += arrow3d((0, 0, min(0, ymin)), (0, 0, 1.1 * max(abs(ymin), abs(ymax))), radius=0.005, color='black') # y-axis\n",
    "            p += arrow3d((0, min(0, xmin), 0), (0, 1.1 * max(abs(xmin), abs(xmax)), 0), radius=0.005, color='black') # x-axis\n",
    "            if showVolume == True:\n",
    "                p += parametric_plot3d([abs(u - axisR) * cos(v), axisR + abs(u - axisR) * sin(v), y1(u)], (u, a, b), (v, 0, 2*pi), color='#ABB2B9', opacity=0.8) # surface 1\n",
    "                p += parametric_plot3d([abs(u - axisR) * cos(v), axisR + abs(u - axisR) * sin(v), y2(u)], (u, a, b), (v, 0, 2*pi), color='#ABB2B9', opacity=0.8) # surface 2\n",
    "                if y1(b) != y2(b):\n",
    "                    p += parametric_plot3d([abs(b - axisR) * cos(v), axisR + abs(b - axisR) * sin(v), min(y1(b), y2(b)) + t * (max(y1(b), y2(b)) - min(y1(b), y2(b)))], (t, 0, 1), (v, 0, 2*pi), color='#ABB2B9', opacity=0.8) # outside\n",
    "                if y1(a) != y2(a):\n",
    "                    p += parametric_plot3d([abs(a - axisR) * cos(v), axisR + abs(a - axisR) * sin(v), min(y1(a), y2(a)) + t * (max(y1(a), y2(a)) - min(y1(a), y2(a)))], (t, 0, 1), (v, 0, 2*pi), color='#ABB2B9', opacity=0.8) # inside\n",
    "            if showShells == True:\n",
    "                if xstar == 'Lower endpoint':\n",
    "                    xx = [a + dx * i for i in range(n)]   \n",
    "                elif xstar == 'Upper endpoint':\n",
    "                    xx = [a + dx * (i + 1) for i in range(n)] \n",
    "                elif xstar == 'Midpoint':\n",
    "                    xx = [a + dx * (i + 1/2) for i in range(n)]\n",
    "                else:\n",
    "                    xx = [a + dx * (i + random()) for i in range(n)]\n",
    "                p += sum(draw_washer( abs(a - axisR) + i * dx, abs(a - axisR) + (i + 1) * dx, axisR, abs(y1(xx[i]) - y2(xx[i])), cc[mod(i, 5)], 0.8).translate(0, 0, min(y1(xx[i]), y2(xx[i]))) for i in range(n))\n",
    "                if n <= 5:\n",
    "                    p += sum(line3d([(0, xx[i], y1(xx[i])),(0, xx[i], y2(xx[i]))], radius=0.005, color='black') for i in range(n))\n",
    "            show(p + curves, frame = False, viewer = 'threejs', aspect_ratio = 1)\n",
    "    elif rotation == '--':\n",
    "        @interact(layout = [['axisR'], ['x1', 'x2', 'yint', 'space'], ['showVolume','showShells', 'n', 'ystar']])\n",
    "        def _(axisR = input_box(0, width=3, label=r'$Axis\\ of\\ rotation: y=$'),\n",
    "              x1 = input_box(y, width=20, label=r'$x_1=$'), \n",
    "              x2 = input_box(y^2, width=20, label=r'$x_2=$'),\n",
    "              yint = input_box((0, 2), width=10, label=r'$y:$'),\n",
    "              ystar = selector(['Arbitrary', 'Lower endpoint', 'Upper endpoint', 'Midpoint'], label=r'$y^*$'),\n",
    "              n = input_box(5, width=3, label=r'$n$'),\n",
    "              showVolume = (r'$Volume$', True),\n",
    "              showShells = (r'$Shells$', False)):\n",
    "            (a, b) = yint\n",
    "            dy = (b - a) / n\n",
    "            x1 = x1 + 0 * y # avoid error when the integrand is a constant.\n",
    "            x2 = x2 + 0 * y # avoid error when the integrand is a constant.\n",
    "            x1 = x1.function(y)\n",
    "            x2 = x2.function(y)\n",
    "            curves = parametric_plot3d([0, x1(y), y], (y, a, b), radius=0.01, color='red')\n",
    "            curves += parametric_plot3d([0, x2(y), y], (y, a, b), radius=0.01, color='blue')\n",
    "            bb = curves.bounding_box()\n",
    "            (xmin, xmax, ymin, ymax) = [bb[0][1], bb[1][1], bb[0][2], bb[1][2]]\n",
    "            p = line3d([(0, xmin - (xmax - xmin) / 2, axisR), (0, xmax + (xmax - xmin) / 2, axisR)], radius=0.001, color='black') # rotation axis\n",
    "            p += arrow3d((0, min(0, xmin), 0), (0, 1.1 * max(abs(xmin), abs(xmax)), 0), radius=0.005, color='black') # x-axis\n",
    "            p += arrow3d((0, 0, min(0, ymin)), (0, 0, 1.1 * max(abs(ymin), abs(ymax))), radius=0.005, color='black') # y-axis\n",
    "            if showVolume == True:\n",
    "                p += parametric_plot3d([abs(u - axisR) * cos(v), x1(u), axisR + abs(u - axisR) * sin(v)], (u, a, b), (v, 0, 2*pi), color='#ABB2B9', opacity=0.8) # surface 1\n",
    "                p += parametric_plot3d([abs(u - axisR) * cos(v), x2(u), axisR + abs(u - axisR) * sin(v)], (u, a, b), (v, 0, 2*pi), color='#ABB2B9', opacity=0.8) # surface 2\n",
    "                if x1(b) != x2(b):\n",
    "                    p += parametric_plot3d([abs(b - axisR) * cos(v), min(x1(b), x2(b)) + t * (max(x1(b), x2(b)) - min(x1(b), x2(b))), axisR + abs(b - axisR) * sin(v)], (t, 0, 1), (v, 0, 2*pi), color='#ABB2B9', opacity=0.8) # outside\n",
    "                if x1(a) != x2(a):\n",
    "                    p += parametric_plot3d([abs(a - axisR) * cos(v), min(x1(a), x2(a)) + t * (max(x1(a), x2(a)) - min(x1(a), x2(a))), axisR + abs(a - axisR) * sin(v)], (t, 0, 1), (v, 0, 2*pi), color='#ABB2B9', opacity=0.8) # inside\n",
    "            if showShells == True:\n",
    "                if ystar == 'Lower endpoint':\n",
    "                    yy = [a + dy * i for i in range(n)]   \n",
    "                elif ystar == 'Upper endpoint':\n",
    "                    yy = [a + dy * (i + 1) for i in range(n)] \n",
    "                elif ystar == 'Midpoint':\n",
    "                    yy = [a + dy * (i + 1/2) for i in range(n)]\n",
    "                else:\n",
    "                    yy = [a + dy * (i + random()) for i in range(n)]\n",
    "                p += sum(draw_washer( abs(a - axisR) + i * dy, abs(a - axisR) + (i + 1) * dy, 0, abs(x1(yy[i]) - x2(yy[i])), cc[mod(i, 5)], 0.8).rotate((1, 0, 0), pi/2).translate(0, min(x1(yy[i]), x2(yy[i])), axisR) for i in range(n))\n",
    "                if n <= 5:\n",
    "                    p += sum(line3d([(0, x1(yy[i]), yy[i]),(0, x2(yy[i]), yy[i])], radius=0.005, color='black') for i in range(n))\n",
    "            show(p + curves, frame = False, viewer = 'threejs', aspect_ratio = 1)"
   ]
  },
  {
   "cell_type": "code",
   "execution_count": 8,
   "metadata": {},
   "outputs": [
    {
     "data": {
      "text/html": [
       "<h2><font face=\"Comic Sans MS\">Volume by Revolution: Cylindrical Shells</font></h2>"
      ],
      "text/plain": [
       "<h2><font face=\"Comic Sans MS\">Volume by Revolution: Cylindrical Shells</font></h2>"
      ]
     },
     "metadata": {},
     "output_type": "display_data"
    },
    {
     "data": {
      "application/vnd.jupyter.widget-view+json": {
       "model_id": "a3374fd14fe94888a85e8ef8220736f0",
       "version_major": 2,
       "version_minor": 0
      },
      "text/plain": [
       "SW50ZXJhY3RpdmUgZnVuY3Rpb24gPGZ1bmN0aW9uIF8gYXQgMHgxZTAxOTdkNzA+IHdpdGggMSB3aWRnZXQKICByb3RhdGlvbjogVG9nZ2xlQnV0dG9ucyhkZXNjcmlwdGlvbj11JyRBeGlzXFzigKY=\n"
      ]
     },
     "metadata": {},
     "output_type": "display_data"
    }
   ],
   "source": [
    "#SageWidget-Calculus-VolumeByRevolution-08-27-2019-1130-LU\n",
    "from sage.plot.plot3d.shapes import *; var('x', 'y', 'z', 'u', 'v','w', 't', 's'); \n",
    "pretty_print(html('<h2><font face=\"Comic Sans MS\">Volume by Revolution: Cylindrical Shells</font></h2>'))\n",
    "def draw_washer(r, R, ax, h, c, o):\n",
    "        w = point3d((0,0,0),size=5,color='white') # Show the origin\n",
    "        if r < R:\n",
    "            w += parametric_plot3d([u*sin(v), ax + u*cos(v), 0], (u, r, R), (v, 0, 2 * pi), color = c, opacity = o) # BOTTOM\n",
    "            w += parametric_plot3d([u*sin(v), ax + u*cos(v), h], (u, r, R), (v, 0, 2 * pi), color = c, opacity = o) # TOP\n",
    "            w += parametric_plot3d([R * sin(v), ax + R * cos(v), h * t], (t, 0, 1), (v, 0, 2 * pi), color = c, opacity = o) # OUTSIDE\n",
    "            w += parametric_plot3d([r * sin(v), ax + r * cos(v), h * t], (t, 0, 1), (v, 0, 2 * pi), color = c, opacity = o) # INSIDE\n",
    "        return w\n",
    "@interact(layout = [['rotation']]) \n",
    "def _(rotation = selector(['|','--'], label=r'$Axis\\ of\\ Rotation$', buttons=True)):\n",
    "    if rotation == '|':\n",
    "        @interact(layout = [['axisR'], ['y1', 'y2', 'xint', 'space'], ['showVolume','showShells', 'n', 'xstar']])\n",
    "        def _(axisR = input_box(0, width=3, label=r'$Axis\\ of\\ rotation: x=$'),\n",
    "              y1 = input_box(x, width=20, label=r'$y_1=$'), \n",
    "              y2 = input_box(sqrt(x), width=20, label=r'$y_2=$'),\n",
    "              xint = input_box((0, 1), width=10, label=r'$x:$'),\n",
    "              xstar = selector(['Arbitrary', 'Lower endpoint', 'Upper endpoint', 'Midpoint'], label=r'$x^*$'),\n",
    "              n = input_box(4, width=3, label=r'$n$'),\n",
    "              showVolume = (r'$Volume$', True),\n",
    "              showShells = (r'$Shells$', False)):\n",
    "            (a, b) = xint\n",
    "            dx = (b - a) / n\n",
    "            y1 = y1 + 0 * x # avoid error when the integrand is a constant.\n",
    "            y2 = y2 + 0 * x # avoid error when the integrand is a constant.\n",
    "            y1 = y1.function(x)\n",
    "            y2 = y2.function(x)\n",
    "            p = line3d([(0, axisR, a - (b - a) / 2), (0, axisR, b + (b - a) / 2)], radius=0.001, color='black') # rotation axis\n",
    "            p += arrow3d((0, 0, 0), (0, 0, 1.1 * y1(b)), radius=0.005, color='black') # x-axis\n",
    "            p += arrow3d((0, 0, 0), (0, 1.2 * b, 0), radius=0.005, color='black') # y-axis\n",
    "            p += parametric_plot3d([0, x, y1(x)], (x, a, b), radius=0.01, color='red')\n",
    "            p += parametric_plot3d([0, x, y2(x)], (x, a, b), radius=0.01, color='blue')\n",
    "            if showVolume == True:\n",
    "                p += parametric_plot3d([abs(u - axisR) * cos(v), axisR + abs(u - axisR) * sin(v), y1(u)], (u, a, b), (v, 0, 2*pi), color='#ABB2B9', opacity=0.8) # surface 1\n",
    "                p += parametric_plot3d([abs(u - axisR) * cos(v), axisR + abs(u - axisR) * sin(v), y2(u)], (u, a, b), (v, 0, 2*pi), color='#ABB2B9', opacity=0.8) # surface 2\n",
    "                if y1(b) != y2(b):\n",
    "                    p += parametric_plot3d([abs(b - axisR) * cos(v), axisR + abs(b - axisR) * sin(v), min(y1(b), y2(b)) + t * (max(y1(b), y2(b)) - min(y1(b), y2(b)))], (t, 0, 1), (v, 0, 2*pi), color='#ABB2B9', opacity=0.8) # outside\n",
    "                if y1(a) != y2(a):\n",
    "                    p += parametric_plot3d([abs(a - axisR) * cos(v), axisR + abs(a - axisR) * sin(v), min(y1(a), y2(a)) + t * (max(y1(a), y2(a)) - min(y1(a), y2(a)))], (t, 0, 1), (v, 0, 2*pi), color='#ABB2B9', opacity=0.8) # inside\n",
    "            if showShells == True:\n",
    "                if xstar == 'Lower endpoint':\n",
    "                    xx = [a + dx * i for i in range(n)]   \n",
    "                elif xstar == 'Upper endpoint':\n",
    "                    xx = [a + dx * (i + 1) for i in range(n)] \n",
    "                elif xstar == 'Midpoint':\n",
    "                    xx = [a + dx * (i + 1/2) for i in range(n)]\n",
    "                else:\n",
    "                    xx = [a + dx * (i + random()) for i in range(n)]\n",
    "                p += sum(draw_washer( a + i * dx, a + (i + 1) * dx, axisR, abs(y1(xx[i]) - y2(xx[i])), 'orange', 0.8).translate(0, 0, min(y1(xx[i]), y2(xx[i]))) for i in range(n))\n",
    "              #  if n <= 5:\n",
    "               #     p += sum(line3d([(0, x1(yy[i]), yy[i]),(0, x2(yy[i]), yy[i])], radius=0.05, color='black') for i in range(n))\n",
    "            show(p, frame = False, viewer = 'threejs', aspect_ratio = 1)\n",
    "    elif rotation == '--':\n",
    "        @interact(layout = [['axisR'], ['x1', 'x2', 'yint', 'space'], ['showVolume','showShells', 'n', 'ystar']])\n",
    "        def _(axisR = input_box(0, width=3, label=r'$Axis\\ of\\ rotation: x=$'),\n",
    "              x1 = input_box(y, width=20, label=r'$x_1=$'), \n",
    "              x2 = input_box(y^2, width=20, label=r'$x_2=$'),\n",
    "              yint = input_box((0, 2), width=10, label=r'$y:$'),\n",
    "              ystar = selector(['Arbitrary', 'Lower endpoint', 'Upper endpoint', 'Midpoint'], label=r'$y^*$'),\n",
    "              n = input_box(4, width=3, label=r'$n$'),\n",
    "              showVolume = (r'$Volume$', True),\n",
    "              showShells = (r'$Shells$', False)):\n",
    "            (a, b) = yint\n",
    "            dy = (b - a) / n\n",
    "            x1 = x1 + 0 * y # avoid error when the integrand is a constant.\n",
    "            x2 = x2 + 0 * y # avoid error when the integrand is a constant.\n",
    "            x1 = x1.function(y)\n",
    "            x2 = x2.function(y)\n",
    "            p = line3d([(0, a - (b - a) / 2, axisR), (0, b + (b - a) / 2, axisR)], radius=0.001, color='black') # rotation axis\n",
    "            p += arrow3d((0, 0, 0), (0, 1.1 * x1(b), 0), radius=0.005, color='black') # x-axis\n",
    "            p += arrow3d((0, 0, 0), (0, 0, 1.2 * b), radius=0.005, color='black') # y-axis\n",
    "            p += parametric_plot3d([0, x1(y), y], (y, a, b), radius=0.01, color='red')\n",
    "            p += parametric_plot3d([0, x2(y), y], (y, a, b), radius=0.01, color='blue')\n",
    "            if showVolume == True:\n",
    "                p += parametric_plot3d([abs(u - axisR) * cos(v), x1(u), axisR + abs(u - axisR) * sin(v)], (u, a, b), (v, 0, 2*pi), color='#ABB2B9', opacity=0.8) # surface 1\n",
    "                p += parametric_plot3d([abs(u - axisR) * cos(v), x2(u), axisR + abs(u - axisR) * sin(v)], (u, a, b), (v, 0, 2*pi), color='#ABB2B9', opacity=0.8) # surface 2\n",
    "                if x1(b) != x2(b):\n",
    "                    p += parametric_plot3d([abs(b - axisR) * cos(v), min(x1(b), x2(b)) + t * (max(x1(b), x2(b)) - min(x1(b), x2(b))), axisR + abs(b - axisR) * sin(v)], (t, 0, 1), (v, 0, 2*pi), color='#ABB2B9', opacity=0.8) # outside\n",
    "                if x1(a) != x2(a):\n",
    "                    p += parametric_plot3d([abs(a - axisR) * cos(v), min(x1(a), x2(a)) + t * (max(x1(a), x2(a)) - min(x1(a), x2(a))), axisR + abs(a - axisR) * sin(v)], (t, 0, 1), (v, 0, 2*pi), color='#ABB2B9', opacity=0.8) # inside\n",
    "            if showShells == True:\n",
    "                if ystar == 'Lower endpoint':\n",
    "                    yy = [a + dy * i for i in range(n)]   \n",
    "                elif ystar == 'Upper endpoint':\n",
    "                    yy = [a + dy * (i + 1) for i in range(n)] \n",
    "                elif ystar == 'Midpoint':\n",
    "                    yy = [a + dy * (i + 1/2) for i in range(n)]\n",
    "                else:\n",
    "                    yy = [a + dy * (i + random()) for i in range(n)]\n",
    "                p += sum(draw_washer( a + i * dy, a + (i + 1) * dy, axisR, abs(x1(yy[i]) - x2(yy[i])), 'orange', 0.8).rotate((1, 0, 0), pi/2).translate(0, min(x1(yy[i]), x2(yy[i])), 0) for i in range(n))\n",
    "              #  if n <= 5:\n",
    "               #     p += sum(line3d([(0, x1(yy[i]), yy[i]),(0, x2(yy[i]), yy[i])], radius=0.05, color='black') for i in range(n))\n",
    "            show(p, frame = False, viewer = 'threejs', aspect_ratio = 1)"
   ]
  },
  {
   "cell_type": "code",
   "execution_count": null,
   "metadata": {},
   "outputs": [],
   "source": []
  }
 ],
 "metadata": {
  "kernelspec": {
   "display_name": "SageMath 8.3",
   "language": "",
   "name": "sagemath"
  },
  "language_info": {
   "codemirror_mode": {
    "name": "ipython",
    "version": 2
   },
   "file_extension": ".py",
   "mimetype": "text/x-python",
   "name": "python",
   "nbconvert_exporter": "python",
   "pygments_lexer": "ipython2",
   "version": "2.7.15"
  }
 },
 "nbformat": 4,
 "nbformat_minor": 2
}
